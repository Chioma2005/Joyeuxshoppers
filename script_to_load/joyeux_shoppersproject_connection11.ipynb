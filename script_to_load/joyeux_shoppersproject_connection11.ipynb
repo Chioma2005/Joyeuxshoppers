{
 "cells": [
  {
   "cell_type": "code",
   "execution_count": 2,
   "id": "0bcc822c",
   "metadata": {},
   "outputs": [],
   "source": [
    "import os\n",
    "from dotenv import load_dotenv\n",
    "import pandas as pd\n",
    "from sqlalchemy import create_engine"
   ]
  },
  {
   "cell_type": "code",
   "execution_count": 3,
   "id": "632f0b55",
   "metadata": {},
   "outputs": [
    {
     "data": {
      "text/plain": [
       "True"
      ]
     },
     "execution_count": 3,
     "metadata": {},
     "output_type": "execute_result"
    }
   ],
   "source": [
    "# Load environment variables from the .env file\n",
    "load_dotenv(override=True, encoding='utf-16')"
   ]
  },
  {
   "cell_type": "code",
   "execution_count": 4,
   "id": "9917066f",
   "metadata": {},
   "outputs": [],
   "source": [
    "# Get the database URL from the environment variables\n",
    "database_url = os.getenv('DATABASE_URL')\n"
   ]
  },
  {
   "cell_type": "code",
   "execution_count": 6,
   "id": "db2a8a6d",
   "metadata": {},
   "outputs": [
    {
     "name": "stdout",
     "output_type": "stream",
     "text": [
      "Data written to users table successfully.\n",
      "Data written to events table successfully.\n",
      "Data written to distribution_centers table successfully.\n",
      "Data written to orders table successfully.\n",
      "Data written to products table successfully.\n",
      "Data written to inventory_items table successfully.\n",
      "Data written to order_items table successfully.\n"
     ]
    }
   ],
   "source": [
    "# Get the database URL from the environment variables\n",
    "database_url = os.getenv('DATABASE_URL')\n",
    "\n",
    "try:\n",
    "    # Create a SQLAlchemy engine\n",
    "    engine = create_engine(database_url)\n",
    "\n",
    "    # Connect to the database\n",
    "    with engine.connect() as conn:\n",
    "        # List of table names\n",
    "        table_names = ['users', 'events', 'distribution_centers', 'orders', 'products', 'inventory_items', 'order_items']\n",
    "        \n",
    "        for table_name in table_names:\n",
    "            # Load CSV data into a Pandas DataFrame\n",
    "            csv_file_path = f\"C:\\\\Users\\\\giftc\\\\OneDrive\\\\Documents\\\\AWS-allprojectinform\\\\data_tables\\\\{table_name}.csv\"\n",
    "            df = pd.read_csv(csv_file_path)  \n",
    "\n",
    "            # Write DataFrame to the database\n",
    "            df.to_sql(table_name, con=conn, if_exists='append', index=False)\n",
    "            print(f\"Data written to {table_name} table successfully.\")\n",
    "\n",
    "except Exception as e:\n",
    "    print(f\"Error: {e}\")"
   ]
  },
  {
   "cell_type": "code",
   "execution_count": null,
   "id": "320d3ad6",
   "metadata": {},
   "outputs": [],
   "source": []
  }
 ],
 "metadata": {
  "kernelspec": {
   "display_name": "Python 3 (ipykernel)",
   "language": "python",
   "name": "python3"
  },
  "language_info": {
   "codemirror_mode": {
    "name": "ipython",
    "version": 3
   },
   "file_extension": ".py",
   "mimetype": "text/x-python",
   "name": "python",
   "nbconvert_exporter": "python",
   "pygments_lexer": "ipython3",
   "version": "3.11.5"
  }
 },
 "nbformat": 4,
 "nbformat_minor": 5
}
