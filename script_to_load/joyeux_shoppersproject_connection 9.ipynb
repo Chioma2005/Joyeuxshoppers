{
 "cells": [
  {
   "cell_type": "code",
   "execution_count": 1,
   "id": "ad95a11c",
   "metadata": {},
   "outputs": [
    {
     "name": "stdout",
     "output_type": "stream",
     "text": [
      "Requirement already satisfied: mysqlclient in c:\\users\\giftc\\anaconda3\\lib\\site-packages (2.2.1)\n",
      "Requirement already satisfied: python-dotenv in c:\\users\\giftc\\anaconda3\\lib\\site-packages (1.0.1)\n",
      "Requirement already satisfied: pymysql in c:\\users\\giftc\\anaconda3\\lib\\site-packages (1.1.0)\n"
     ]
    }
   ],
   "source": [
    "!pip3 install mysqlclient\n",
    "!pip install python-dotenv\n",
    "!pip install pymysql"
   ]
  },
  {
   "cell_type": "code",
   "execution_count": 2,
   "id": "adeb40e2",
   "metadata": {},
   "outputs": [],
   "source": [
    "import pandas as pd\n",
    "from sqlalchemy import create_engine\n",
    "from dotenv import load_dotenv\n",
    "import os\n",
    "from sqlalchemy.exc import SQLAlchemyError\n"
   ]
  },
  {
   "cell_type": "code",
   "execution_count": 3,
   "id": "94ee6b83",
   "metadata": {},
   "outputs": [
    {
     "data": {
      "text/plain": [
       "True"
      ]
     },
     "execution_count": 3,
     "metadata": {},
     "output_type": "execute_result"
    }
   ],
   "source": [
    "load_dotenv(override=True, encoding='utf-16')"
   ]
  },
  {
   "cell_type": "code",
   "execution_count": 4,
   "id": "22455f8d",
   "metadata": {},
   "outputs": [],
   "source": [
    "\n",
    "# Access environment variables\n",
    "database_url = os.getenv('DATABASE_URL')\n",
    "# Use the variables in your application\n",
    "\n",
    "def load_csv_to_mysql(file_path, table_name, database_url):\n",
    "    try: \n",
    "        # Read the data from the csv file into a pandas dataframe\n",
    "        df = pd.read_csv(file_path)\n",
    "\n",
    "        # Create a connection to the MySQL database using the provided database URL\n",
    "        engine = create_engine(database_url)\n",
    "\n",
    "        # Use pandas to_sql function to load data from DataFrame into MySQL table\n",
    "        df.to_sql(table_name, con=engine, if_exists='append', index=False) \n",
    "        print(f\"Data loaded successfully into the '{table_name}' table.\" )\n",
    "        \n",
    "        \n",
    "    # Specific Exception Handling \n",
    "    # It prints informative error messages indicating the specific type of error that occurred.  \n",
    "    \n",
    "    \n",
    "    # It catches specific exceptions such as FileNotFoundError\n",
    "    except FileNotFoundError:\n",
    "        print(f\"Error:CSV file '{file_path}' not found.\")\n",
    "    \n",
    "    # pd.errors.EmptyDataError for file-related issues, \n",
    "    except pd.errors.EmptyDataError:\n",
    "        print(f\"Error: CSV file '{file_path}' is empty\")\n",
    "        \n",
    "    # SQLAlchemyError for SQLAlchemy errors\n",
    "    except SQLAlchemyError as e:\n",
    "        print(f\"SQLAlchemy Error {e}\")\n",
    "            \n",
    "    # generic Exception for any unexpected errors.\n",
    "    except Exception as e:\n",
    "        print(f\"An unexpected error occurred: {e}\")\n",
    "    \n",
    "    # Database Connection Cleanup:\n",
    "    # It includes a finally block to ensure that the database connection (engine) is disposed of even if an error occurs.\n",
    "    \n",
    "    finally:\n",
    "        if 'engine' in locals():\n",
    "            engine.dispose()        "
   ]
  },
  {
   "cell_type": "code",
   "execution_count": 5,
   "id": "3a70cf7f",
   "metadata": {},
   "outputs": [
    {
     "name": "stdout",
     "output_type": "stream",
     "text": [
      "Data loaded successfully into the 'distribution_centers' table.\n"
     ]
    }
   ],
   "source": [
    "#Usage: Calling the function\n",
    "file_path = r\"C:\\Users\\giftc\\OneDrive\\Documents\\AWS-allprojectinform\\data_tables\\distribution_centers.csv\"\n",
    "table_name = \"distribution_centers\"\n",
    "database_url = os.getenv('DATABASE_URL')\n",
    "load_csv_to_mysql(file_path, table_name, database_url)"
   ]
  },
  {
   "cell_type": "code",
   "execution_count": 6,
   "id": "b3e61201",
   "metadata": {},
   "outputs": [
    {
     "name": "stdout",
     "output_type": "stream",
     "text": [
      "Data loaded successfully into the 'users' table.\n"
     ]
    }
   ],
   "source": [
    "file_path = r\"C:\\Users\\giftc\\OneDrive\\Documents\\AWS-allprojectinform\\data_tables\\users.csv\"\n",
    "table_name = \"users\"\n",
    "database_url = os.getenv('DATABASE_URL')\n",
    "load_csv_to_mysql(file_path, table_name, database_url)"
   ]
  },
  {
   "cell_type": "code",
   "execution_count": 7,
   "id": "85bdbbd8",
   "metadata": {},
   "outputs": [
    {
     "name": "stdout",
     "output_type": "stream",
     "text": [
      "Data loaded successfully into the 'orders' table.\n"
     ]
    }
   ],
   "source": [
    "file_path = r\"C:\\Users\\giftc\\OneDrive\\Documents\\AWS-allprojectinform\\data_tables\\orders.csv\"\n",
    "table_name = \"orders\"\n",
    "database_url = os.getenv('DATABASE_URL')\n",
    "load_csv_to_mysql(file_path, table_name, database_url)"
   ]
  },
  {
   "cell_type": "code",
   "execution_count": 8,
   "id": "1280dc75",
   "metadata": {},
   "outputs": [
    {
     "name": "stdout",
     "output_type": "stream",
     "text": [
      "Data loaded successfully into the 'products' table.\n"
     ]
    }
   ],
   "source": [
    "file_path = r\"C:\\Users\\giftc\\OneDrive\\Documents\\AWS-allprojectinform\\data_tables\\products.csv\"\n",
    "table_name = \"products\"\n",
    "database_url = os.getenv('DATABASE_URL')\n",
    "load_csv_to_mysql(file_path, table_name, database_url)"
   ]
  },
  {
   "cell_type": "code",
   "execution_count": 9,
   "id": "01d7ed2f",
   "metadata": {},
   "outputs": [
    {
     "name": "stdout",
     "output_type": "stream",
     "text": [
      "Data loaded successfully into the 'events' table.\n"
     ]
    }
   ],
   "source": [
    "file_path = r\"C:\\Users\\giftc\\OneDrive\\Documents\\AWS-allprojectinform\\data_tables\\events.csv\"\n",
    "table_name = \"events\"\n",
    "database_url = os.getenv('DATABASE_URL')\n",
    "\n",
    "load_csv_to_mysql(file_path, table_name, database_url)"
   ]
  },
  {
   "cell_type": "code",
   "execution_count": 10,
   "id": "deee941c",
   "metadata": {},
   "outputs": [
    {
     "name": "stdout",
     "output_type": "stream",
     "text": [
      "Data loaded successfully into the 'inventory_items' table.\n"
     ]
    }
   ],
   "source": [
    "file_path = r\"C:\\Users\\giftc\\OneDrive\\Documents\\AWS-allprojectinform\\data_tables\\inventory_items.csv\"\n",
    "table_name = \"inventory_items\"\n",
    "database_url = os.getenv('DATABASE_URL')\n",
    "load_csv_to_mysql(file_path, table_name, database_url)"
   ]
  },
  {
   "cell_type": "code",
   "execution_count": 11,
   "id": "9bfa4d5b",
   "metadata": {},
   "outputs": [
    {
     "name": "stdout",
     "output_type": "stream",
     "text": [
      "Data loaded successfully into the 'order_items' table.\n"
     ]
    }
   ],
   "source": [
    "file_path = r\"C:\\Users\\giftc\\OneDrive\\Documents\\AWS-allprojectinform\\data_tables\\order_items.csv\"\n",
    "table_name = \"order_items\"\n",
    "database_url = os.getenv('DATABASE_URL')\n",
    "load_csv_to_mysql(file_path, table_name, database_url)"
   ]
  },
  {
   "cell_type": "code",
   "execution_count": null,
   "id": "3bf27bbd",
   "metadata": {},
   "outputs": [],
   "source": []
  }
 ],
 "metadata": {
  "kernelspec": {
   "display_name": "Python 3 (ipykernel)",
   "language": "python",
   "name": "python3"
  },
  "language_info": {
   "codemirror_mode": {
    "name": "ipython",
    "version": 3
   },
   "file_extension": ".py",
   "mimetype": "text/x-python",
   "name": "python",
   "nbconvert_exporter": "python",
   "pygments_lexer": "ipython3",
   "version": "3.11.5"
  }
 },
 "nbformat": 4,
 "nbformat_minor": 5
}
